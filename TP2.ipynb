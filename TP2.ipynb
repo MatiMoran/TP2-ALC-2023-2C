{
 "cells": [
  {
   "cell_type": "code",
   "execution_count": 35,
   "metadata": {},
   "outputs": [],
   "source": [
    "# import libraries\n",
    "import numpy as np\n",
    "import math\n"
   ]
  },
  {
   "cell_type": "code",
   "execution_count": 36,
   "metadata": {},
   "outputs": [],
   "source": [
    "with open('wine.csv', 'r') as file:\n",
    "    headers = file.readline().split(',')\n",
    "\n",
    "# read the data from the csv file\n",
    "data = np.genfromtxt('wine.csv', delimiter=',')\n",
    "\n",
    "# drop the text headers\n",
    "data = data[1:]\n",
    "\n"
   ]
  },
  {
   "cell_type": "code",
   "execution_count": null,
   "metadata": {},
   "outputs": [],
   "source": [
    "# get the independant variables\n",
    "x = data[:, :-1]\n",
    "\n",
    "# get the single dependant variable\n",
    "y = data[:, -1]"
   ]
  },
  {
   "cell_type": "code",
   "execution_count": 34,
   "metadata": {},
   "outputs": [
    {
     "name": "stdout",
     "output_type": "stream",
     "text": [
      "(13,)\n",
      "(13,)\n"
     ]
    }
   ],
   "source": [
    "def get_mean_vector(x):\n",
    "    return np.mean(x, axis=0)\n",
    "\n",
    "def get_std_vector(x):\n",
    "    rows_qty = x.shape[0]\n",
    "    col_qty = x.shape[1]\n",
    "    mean = get_mean_vector(x)\n",
    "    ret = 0\n",
    "    for j in range(col_qty):\n",
    "        for i in range(rows_qty):\n",
    "            ret = ret + (x[k][0] - mean[0]) ** 2\n",
    "    ret = math.sqrt(ret * 1/(rows_qty - 1))\n",
    "    return ret"
   ]
  },
  {
   "cell_type": "code",
   "execution_count": 32,
   "metadata": {},
   "outputs": [
    {
     "name": "stdout",
     "output_type": "stream",
     "text": [
      "[8.09542915e-01 1.11400363e+00 2.73572294e-01 3.33016976e+00\n",
      " 1.42423077e+01 6.24090564e-01 9.96048950e-01 1.24103260e-01\n",
      " 5.70748849e-01 2.31176466e+00 2.27928607e-01 7.07993265e-01\n",
      " 3.14021657e+02]\n"
     ]
    },
    {
     "ename": "TypeError",
     "evalue": "'NoneType' object is not subscriptable",
     "output_type": "error",
     "traceback": [
      "\u001b[0;31m---------------------------------------------------------------------------\u001b[0m",
      "\u001b[0;31mTypeError\u001b[0m                                 Traceback (most recent call last)",
      "\u001b[1;32m/mnt/A88277D98277AB08/UBA/ALC/Repos/TP2-ALC-2023-2C/a.ipynb Cell 3\u001b[0m line \u001b[0;36m2\n\u001b[1;32m     <a href='vscode-notebook-cell:/mnt/A88277D98277AB08/UBA/ALC/Repos/TP2-ALC-2023-2C/a.ipynb#W2sZmlsZQ%3D%3D?line=25'>26</a>\u001b[0m std \u001b[39m=\u001b[39m np\u001b[39m.\u001b[39mstd(x, axis\u001b[39m=\u001b[39m\u001b[39m0\u001b[39m)\n\u001b[1;32m     <a href='vscode-notebook-cell:/mnt/A88277D98277AB08/UBA/ALC/Repos/TP2-ALC-2023-2C/a.ipynb#W2sZmlsZQ%3D%3D?line=27'>28</a>\u001b[0m \u001b[39mprint\u001b[39m(std)\n\u001b[0;32m---> <a href='vscode-notebook-cell:/mnt/A88277D98277AB08/UBA/ALC/Repos/TP2-ALC-2023-2C/a.ipynb#W2sZmlsZQ%3D%3D?line=28'>29</a>\u001b[0m \u001b[39mprint\u001b[39m(get_std(x))\n",
      "\u001b[1;32m/mnt/A88277D98277AB08/UBA/ALC/Repos/TP2-ALC-2023-2C/a.ipynb Cell 3\u001b[0m line \u001b[0;36m1\n\u001b[1;32m      <a href='vscode-notebook-cell:/mnt/A88277D98277AB08/UBA/ALC/Repos/TP2-ALC-2023-2C/a.ipynb#W2sZmlsZQ%3D%3D?line=8'>9</a>\u001b[0m ret \u001b[39m=\u001b[39m \u001b[39m0\u001b[39m\n\u001b[1;32m     <a href='vscode-notebook-cell:/mnt/A88277D98277AB08/UBA/ALC/Repos/TP2-ALC-2023-2C/a.ipynb#W2sZmlsZQ%3D%3D?line=9'>10</a>\u001b[0m \u001b[39mfor\u001b[39;00m k \u001b[39min\u001b[39;00m \u001b[39mrange\u001b[39m(rows_qty):\n\u001b[0;32m---> <a href='vscode-notebook-cell:/mnt/A88277D98277AB08/UBA/ALC/Repos/TP2-ALC-2023-2C/a.ipynb#W2sZmlsZQ%3D%3D?line=10'>11</a>\u001b[0m     ret \u001b[39m=\u001b[39m ret \u001b[39m+\u001b[39m (x[k][\u001b[39m0\u001b[39m] \u001b[39m-\u001b[39m mean[\u001b[39m0\u001b[39;49m]) \u001b[39m*\u001b[39m\u001b[39m*\u001b[39m \u001b[39m2\u001b[39m\n\u001b[1;32m     <a href='vscode-notebook-cell:/mnt/A88277D98277AB08/UBA/ALC/Repos/TP2-ALC-2023-2C/a.ipynb#W2sZmlsZQ%3D%3D?line=11'>12</a>\u001b[0m ret \u001b[39m=\u001b[39m math\u001b[39m.\u001b[39msqrt(ret \u001b[39m*\u001b[39m \u001b[39m1\u001b[39m\u001b[39m/\u001b[39m(rows_qty \u001b[39m-\u001b[39m \u001b[39m1\u001b[39m))\n\u001b[1;32m     <a href='vscode-notebook-cell:/mnt/A88277D98277AB08/UBA/ALC/Repos/TP2-ALC-2023-2C/a.ipynb#W2sZmlsZQ%3D%3D?line=12'>13</a>\u001b[0m \u001b[39mreturn\u001b[39;00m ret\n",
      "\u001b[0;31mTypeError\u001b[0m: 'NoneType' object is not subscriptable"
     ]
    }
   ],
   "source": [
    "# normalization of the data\n",
    "\n",
    "def get_mean_vector(x):\n",
    "    np.mean(x, axis=0)\n",
    "\n",
    "def get_std(x):\n",
    "    rows_qty = x.shape[0]\n",
    "    mean = get_mean_vector(x)\n",
    "    ret = 0\n",
    "    for k in range(rows_qty):\n",
    "        ret = ret + (x[k][0] - mean[0]) ** 2\n",
    "    ret = math.sqrt(ret * 1/(rows_qty - 1))\n",
    "    return ret\n",
    "\n",
    "#print(get_std(x))\n",
    "\n",
    "# def normalize(x):\n",
    "#     mean = get_mean(x)\n",
    "#     std = get_std(x)\n",
    "#     return (x - mean) / std\n",
    "\n",
    "# print(normalize(x))\n",
    "\n",
    "# get the standard deviation of the data using np\n",
    "\n",
    "std = np.std(x, axis=0)\n",
    "\n",
    "print(std)\n",
    "print(get_std(x))"
   ]
  }
 ],
 "metadata": {
  "kernelspec": {
   "display_name": "Python 3",
   "language": "python",
   "name": "python3"
  },
  "language_info": {
   "codemirror_mode": {
    "name": "ipython",
    "version": 3
   },
   "file_extension": ".py",
   "mimetype": "text/x-python",
   "name": "python",
   "nbconvert_exporter": "python",
   "pygments_lexer": "ipython3",
   "version": "3.10.12"
  }
 },
 "nbformat": 4,
 "nbformat_minor": 2
}
