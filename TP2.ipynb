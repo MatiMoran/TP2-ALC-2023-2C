{
 "cells": [
  {
   "cell_type": "code",
   "execution_count": 44,
   "metadata": {},
   "outputs": [],
   "source": [
    "# import libraries\n",
    "import numpy as np\n",
    "import math\n"
   ]
  },
  {
   "cell_type": "markdown",
   "metadata": {},
   "source": [
    "##Ejercicio 1"
   ]
  },
  {
   "cell_type": "code",
   "execution_count": 45,
   "metadata": {},
   "outputs": [],
   "source": [
    "### a\n",
    "\n",
    "# obtain the headers\n",
    "with open('wine.csv', 'r') as file:\n",
    "    headers = file.readline().split(',')\n",
    "\n",
    "# read the data from the csv file\n",
    "data = np.genfromtxt('wine.csv', delimiter=',')\n",
    "\n",
    "# drop the text headers and keep only the values\n",
    "data = data[1:]"
   ]
  },
  {
   "cell_type": "code",
   "execution_count": 46,
   "metadata": {},
   "outputs": [],
   "source": [
    "### b\n",
    "\n",
    "# get the independant variables\n",
    "x = data[:, :-1]\n",
    "\n",
    "# get the single dependant variable\n",
    "y = data[:, -1]"
   ]
  },
  {
   "cell_type": "code",
   "execution_count": 47,
   "metadata": {},
   "outputs": [],
   "source": [
    "### c\n",
    "\n",
    "# obtain the mean vector of data\n",
    "def get_mean_vector(x):\n",
    "    return np.mean(x, axis=0)\n",
    "\n",
    "# obtain the standard deviation vector of data\n",
    "def get_std_vector(x):\n",
    "    rows_qty = x.shape[0]\n",
    "    col_qty = x.shape[1]\n",
    "    ret = np.zeros(col_qty)\n",
    "\n",
    "    mean = get_mean_vector(x)\n",
    "\n",
    "    for i in range(rows_qty):\n",
    "        ret = ret + (x[i] - mean) ** 2\n",
    "\n",
    "    return ret / (rows_qty - 1)\n",
    "\n",
    "# obtain the normalized vector of data\n",
    "def get_normailized(x):\n",
    "    return (x - get_mean_vector(x)) / get_std_vector(x)\n",
    "\n",
    "x = get_normailized(x)"
   ]
  },
  {
   "cell_type": "code",
   "execution_count": 48,
   "metadata": {},
   "outputs": [],
   "source": [
    "### e\n",
    "\n",
    "def get_max_eigenvector(matrix, iter = 20):\n",
    "    ret = np.random.rand(matrix.shape[1])\n",
    "    for _ in range(iter):\n",
    "        next = np.dot(matrix, ret)\n",
    "        ret = next / np.linalg.norm(next)\n",
    "    return ret\n",
    "\n",
    "def get_max_eigenvalue(matrix):\n",
    "    max_eigenvector = get_max_eigenvector(matrix)\n",
    "    t_max_eigenvector = np.transpose(max_eigenvector)\n",
    "    return np.dot(t_max_eigenvector, np.dot(matrix, max_eigenvector)) / (np.dot(t_max_eigenvector, max_eigenvector))\n",
    "\n",
    "# TODO obtain the max eigenvalue and the max eigenvector of the matrix of exersice d"
   ]
  }
 ],
 "metadata": {
  "kernelspec": {
   "display_name": "Python 3",
   "language": "python",
   "name": "python3"
  },
  "language_info": {
   "codemirror_mode": {
    "name": "ipython",
    "version": 3
   },
   "file_extension": ".py",
   "mimetype": "text/x-python",
   "name": "python",
   "nbconvert_exporter": "python",
   "pygments_lexer": "ipython3",
   "version": "3.10.12"
  }
 },
 "nbformat": 4,
 "nbformat_minor": 2
}
