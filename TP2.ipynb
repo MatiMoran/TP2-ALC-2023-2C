{
 "cells": [
  {
   "cell_type": "markdown",
   "source": [
    "Ejercicio 1"
   ],
   "metadata": {
    "collapsed": false
   }
  },
  {
   "cell_type": "code",
   "execution_count": 2,
   "outputs": [],
   "source": [
    "# import libraries\n",
    "import numpy as np\n",
    "import matplotlib.pyplot as plt"
   ],
   "metadata": {
    "collapsed": false,
    "ExecuteTime": {
     "end_time": "2023-11-07T01:05:48.140817700Z",
     "start_time": "2023-11-07T01:05:47.894288900Z"
    }
   }
  },
  {
   "cell_type": "code",
   "execution_count": 3,
   "outputs": [],
   "source": [
    "### a\n",
    "\n",
    "# obtain the headers\n",
    "with open('wine.csv', 'r') as file:\n",
    "    headers = file.readline().split(',')\n",
    "\n",
    "# read the data from the csv file\n",
    "data = np.genfromtxt('wine.csv', delimiter=',')\n",
    "\n",
    "# drop the text headers and keep only the values\n",
    "data = data[1:]"
   ],
   "metadata": {
    "collapsed": false,
    "ExecuteTime": {
     "end_time": "2023-11-07T01:05:48.147508800Z",
     "start_time": "2023-11-07T01:05:48.142850200Z"
    }
   }
  },
  {
   "cell_type": "code",
   "execution_count": 4,
   "outputs": [],
   "source": [
    "### b\n",
    "\n",
    "# get the independant variables\n",
    "x = data[:, :-1]\n",
    "\n",
    "# get the single dependant variable\n",
    "y = data[:, -1]"
   ],
   "metadata": {
    "collapsed": false,
    "ExecuteTime": {
     "end_time": "2023-11-07T01:05:48.154733500Z",
     "start_time": "2023-11-07T01:05:48.146490100Z"
    }
   }
  },
  {
   "cell_type": "code",
   "execution_count": 5,
   "outputs": [
    {
     "name": "stdout",
     "output_type": "stream",
     "text": [
      "1.995906561123877e-17\n",
      "0.9971870549059036\n"
     ]
    },
    {
     "data": {
      "text/plain": "<Figure size 640x480 with 1 Axes>",
      "image/png": "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"
     },
     "metadata": {},
     "output_type": "display_data"
    }
   ],
   "source": [
    "### c\n",
    "\n",
    "# normalize the data for each column\n",
    "for col in range(x.shape[1]):\n",
    "\n",
    "    # calculate the mean\n",
    "    column_mean = np.mean(x[:, col])\n",
    "    \n",
    "    # calculate the standard deviation\n",
    "    squared_diff = 0\n",
    "    for row in range(x.shape[0]):\n",
    "        squared_diff = squared_diff + (x[row, col] - column_mean) ** 2\n",
    "    column_std = np.sqrt(squared_diff / (x.shape[0] - 1))\n",
    "    \n",
    "    # normalize the column\n",
    "    x[:, col] = (x[:, col] - column_mean) / column_std\n",
    "\n",
    "# print the mean and std of a random column and see if it is normalized\n",
    "print(np.mean(x[:, 4]))\n",
    "print(np.std(x[:, 4]))\n",
    "plt.hist(x[:,4])\n",
    "plt.show()"
   ],
   "metadata": {
    "collapsed": false,
    "ExecuteTime": {
     "end_time": "2023-11-07T01:05:48.255604Z",
     "start_time": "2023-11-07T01:05:48.155783Z"
    }
   }
  },
  {
   "cell_type": "markdown",
   "source": [
    "¿Por que es importante este paso?\n",
    "\n",
    "Este paso de estandarizar la data es importante asi todas las columnas estan en la misma escala y esto hace que luego cuando tengamos que calcular distancias entre vinos (puntos en el espacio) no se vea afectada la cuenta debido a diferencias de escalas entre propiedades (columnas), de otra forma podria pasar que una dimension (propiedad) sea mucho mas influyente que las otras debido a cuestiones solamente numericas."
   ],
   "metadata": {
    "collapsed": false
   }
  },
  {
   "cell_type": "code",
   "execution_count": 6,
   "outputs": [],
   "source": [
    "### d\n",
    "\n",
    "# calculate the covariance matrix\n",
    "\n",
    "rows_qty = x.shape[0]\n",
    "col_qty = x.shape[1]\n",
    "\n",
    "cov = np.zeros(shape=(col_qty, col_qty))\n",
    "\n",
    "for i in range(col_qty):\n",
    "    for j in range(col_qty):\n",
    "        i_col_mean = np.mean(x[:, i])\n",
    "        j_col_mean = np.mean(x[:, j])\n",
    "        \n",
    "        for k in range(rows_qty):\n",
    "            cov[i, j] = cov[i, j] + (x[k, i] - i_col_mean) * (x[k, j] - j_col_mean)\n",
    "        cov[i, j] = cov[i, j] / rows_qty"
   ],
   "metadata": {
    "collapsed": false,
    "ExecuteTime": {
     "end_time": "2023-11-07T01:05:48.274127200Z",
     "start_time": "2023-11-07T01:05:48.253551Z"
    }
   }
  },
  {
   "cell_type": "markdown",
   "source": [
    "¿Que representa la matriz de covarianza? ¿Que dimensionestiene y que propiedades cumple?\n",
    "\n",
    "La matriz de covarianza nos dice la relación entre dos o más variables aleatorias, Cada una de sus entradas contiene la covarianza entre cada par de variables y sobre cómo estas variables varían juntas.\n",
    "\n",
    "La matriz es cuadrada y tiene dimensiones de n x n donde n es el numero de variables aleatorias, en este caso seria 13 x 13 que es la cantidad de variables independientes.\n",
    "\n",
    "La matriz de covarianza siempre es simetrica y semidefinida positiva lo cual lo hace importante ya que la hace semejante a una matriz diagonal donde las entrada son sus autovalores y estos son reales."
   ],
   "metadata": {
    "collapsed": false
   }
  },
  {
   "cell_type": "code",
   "execution_count": 7,
   "outputs": [
    {
     "name": "stdout",
     "output_type": "stream",
     "text": [
      "4.679412892018551\n",
      "[ 0.14432943 -0.24518756 -0.00205104 -0.23932041  0.14199206  0.39466085\n",
      "  0.4229343  -0.2985331   0.31342949 -0.08861666  0.29671454  0.3761674\n",
      "  0.28675225]\n"
     ]
    }
   ],
   "source": [
    "### e\n",
    "\n",
    "# obtain the eigenvalue using the Rayleigh quotient\n",
    "def get_related_eigenvalue(matrix, eigenvector):\n",
    "    transposed_eigenvector = np.transpose(eigenvector)\n",
    "    return transposed_eigenvector @ matrix @ eigenvector / (transposed_eigenvector @ eigenvector)\n",
    "\n",
<<<<<<< HEAD
    "def get_max_eigenvector_and_eigenvalue(matrix):\n",
    "    # start with a random vector\n",
    "    eigenvector = np.random.rand(matrix.shape[1])\n",
    "    previous_eigenvalue = 0\n",
=======
    "\n",
    "def get_max_eigenvector(matrix, vector=None):\n",
>>>>>>> 22efaa75c50227ece2f8c213b67860b570852b6d
    "\n",
    "    # apply the power method multiplying the matrix with the vector and dividing by the norm and stop when its converges\n",
    "    if vector is None:\n",
    "        vector = np.random.rand(matrix.shape[1])\n",
    "    \n",
    "    eigenvector = (matrix @ vector) / np.linalg.norm(matrix @ vector)\n",
    "\n",
    "    if np.allclose(vector, eigenvector):\n",
    "        return eigenvector\n",
    "    else:\n",
    "        return get_max_eigenvector(matrix, eigenvector)\n",
    "\n",
    "\n",
    " # start with a random vector\n",
    "max_cov_eigenvector = get_max_eigenvector(cov)\n",
    "max_cov_eigenvalue = get_related_eigenvalue(cov, max_cov_eigenvector)\n",
    "\n",
    "# print the results\n",
    "print(max_cov_eigenvalue)\n",
    "print(max_cov_eigenvector)"
   ],
   "metadata": {
    "collapsed": false,
    "ExecuteTime": {
     "end_time": "2023-11-07T01:05:48.344195200Z",
     "start_time": "2023-11-07T01:05:48.274127200Z"
    }
   }
  },
  {
   "cell_type": "code",
   "execution_count": 8,
   "outputs": [],
   "source": [
    "### f\n",
    "\n",
    "def get_max_eigenvectors_and_eigenvalues(matrix, quantity):\n",
    "    matrix_copy = matrix.copy()\n",
    "    eigenvectors = np.zeros(shape=(quantity, matrix.shape[1]))\n",
    "    eigenvalues = np.zeros(quantity)\n",
    "\n",
    "    # get the maximum eigenvector and eigenvalue and remove it from the matrix\n",
    "    for i in range(quantity):\n",
    "        \n",
    "        eigenvector = get_max_eigenvector(cov)\n",
    "        eigenvalue = get_related_eigenvalue(matrix_copy, eigenvector)\n",
    "        eigenvectors[i] = eigenvector\n",
    "        eigenvalues[i] = eigenvalue\n",
    "        matrix_copy = matrix_copy - eigenvalue * np.outer(eigenvector, eigenvector)\n",
    "\n",
    "    return eigenvectors, eigenvalues\n",
    "\n",
    "eigenvectors, eigenvalues = get_max_eigenvectors_and_eigenvalues(cov, cov.shape[0])"
   ],
   "metadata": {
    "collapsed": false,
    "ExecuteTime": {
     "end_time": "2023-11-07T01:05:48.348197900Z",
     "start_time": "2023-11-07T01:05:48.282742200Z"
    }
   }
  },
  {
   "cell_type": "markdown",
   "source": [
    "¿Como se relaciona la cantidad de autovalores con la cantidad de propiedades de los vinos?\n",
    "¿Que representan cada unos de los autovectores correspondientes?\n",
    "\n",
    "La cantidad de autovalores es la misma que la cantidad de propiedades ya que la matriz de covarianza tiene dimension n x n propiedades y por lo tanto n autovalores.\n",
    "\n",
    "Cada uno de los autovectores asociado con un autovalor de la matriz de covarianza representa la direccion del espacio n dimensional por la cual obtenemos la mayor varianza y por lo tanto la mayor informacion posible.\n",
    "\n",
    "El autovector relacionado con el primer autovalor sera la direccion con mayor varianza.\n",
    "\n",
    "El segundo va a ser la segunda direccion con mas varianza y ademas ortogonal a la primera\n",
    "\n",
    "El tercero sera la tercera direccion con mas varianza y ortogonal a los otros 2 y asi sucesivamente."
   ],
   "metadata": {
    "collapsed": false
   }
  },
  {
   "cell_type": "code",
   "execution_count": 9,
   "outputs": [
    {
     "name": "stdout",
     "output_type": "stream",
     "text": [
      "correct value is: 1.0    prediction is: 1.0\n",
      "correct value is: 1.0    prediction is: 1.0\n",
      "correct value is: 1.0    prediction is: 1.0\n",
      "correct value is: 1.0    prediction is: 1.0\n",
      "correct value is: 1.0    prediction is: 1.0\n",
      "correct value is: 1.0    prediction is: 1.0\n",
      "correct value is: 2.0    prediction is: 2.0\n",
      "correct value is: 2.0    prediction is: 2.0\n",
      "correct value is: 2.0    prediction is: 2.0\n",
      "correct value is: 2.0    prediction is: 2.0\n",
      "correct value is: 2.0    prediction is: 2.0\n",
      "correct value is: 2.0    prediction is: 1.0\n",
      "correct value is: 2.0    prediction is: 2.0\n",
      "correct value is: 3.0    prediction is: 2.0\n",
      "correct value is: 3.0    prediction is: 3.0\n",
      "correct value is: 3.0    prediction is: 3.0\n",
      "correct value is: 3.0    prediction is: 3.0\n",
      "correct value is: 3.0    prediction is: 3.0\n",
      "Accuracy: 88.88888888888889%\n"
     ]
    }
   ],
   "source": [
    "### g\n",
    "\n",
    "# knn model for predicting the result label\n",
    "class knn_model:\n",
    "    def __init__(self, x, y, neighbors):\n",
    "        self.x = x\n",
    "        self.y = y\n",
    "        self.neighbors = neighbors\n",
    "\n",
    "    def predict(self, input):\n",
    "        distances = np.zeros(len(self.x))\n",
    "        results = np.zeros(len(input))\n",
    "\n",
    "        # calculate the distance between the input and the known data points and return the label of the nearest point\n",
    "        for i in range(len(input)):\n",
    "            for j in range(len(self.x)):\n",
    "                distances[j] = np.linalg.norm(input[i] - self.x[j])\n",
    "            \n",
    "            # get the indexes of most similar points and the most frequent label of them\n",
    "            min_distance_indexes = np.argsort(distances)[:self.neighbors]\n",
    "            min_distance_values = self.y[min_distance_indexes]\n",
    "            values, counts = np.unique(min_distance_values, return_counts=True)\n",
    "            ind = np.argmax(counts)\n",
    "            results[i] = values[ind]\n",
    "        \n",
    "        return results\n",
    "\n",
    "# predict the result label of the input array containing the samples atributes and needs the eigenvectors of the covariance matrix\n",
    "def predict_data(x, y, input, eigenvectors):\n",
    "\n",
    "    # transform the data into the new basis using the eigenvectors\n",
    "    transformed_x = x @ np.transpose(eigenvectors)\n",
    "    \n",
    "    # create a knn model using the transformed data and the labels\n",
    "    model = knn_model(transformed_x, y, neighbors=5)\n",
    "\n",
    "    # predit the result transforming the input data into the new basis and then using the knn model\n",
    "    return model.predict(input @ np.transpose(eigenvectors))\n",
    "\n",
    "# take random samples for testing the model\n",
    "test = x[::10]\n",
    "correct_labels = y[::10]\n",
    "predicted_data = predict_data(x, y, test, eigenvectors)\n",
    "\n",
    "for i in range(len(predicted_data)):\n",
    "    print(\"correct value is: \" + str(correct_labels[i]) + \"    prediction is: \" + str(predicted_data[i]))\n",
    "\n",
    "print(\"Accuracy: \" + str(100 * np.sum(predicted_data == correct_labels) / len(correct_labels)) + \"%\")"
   ],
   "metadata": {
    "collapsed": false,
    "ExecuteTime": {
     "end_time": "2023-11-07T01:05:48.349198300Z",
     "start_time": "2023-11-07T01:05:48.298222Z"
    }
   }
  },
  {
   "cell_type": "markdown",
   "source": [
    "Ejercicio 2"
   ],
   "metadata": {
    "collapsed": false
   }
  },
  {
   "cell_type": "code",
   "execution_count": 10,
   "outputs": [
    {
     "data": {
      "text/plain": "<Figure size 640x480 with 1 Axes>",
      "image/png": "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"
     },
     "metadata": {},
     "output_type": "display_data"
    }
   ],
   "source": [
    "### a\n",
    "\n",
    "iter = 4\n",
    "components = []\n",
    "explain_varianze = []\n",
    "percent_explain_varianze = []\n",
    "accumulated_explain_varianze = []\n",
    "\n",
    "# obtain the data for the table\n",
    "for i in range(iter):\n",
    "    components.append(i + 1)\n",
    "    explain_varianze.append(eigenvalues[i] / np.sum(eigenvalues))\n",
    "    percent_explain_varianze.append(100 * explain_varianze[i])\n",
    "    accumulated_explain_varianze.append(np.sum(eigenvalues[0:i + 1]) / np.sum(eigenvalues))\n",
    "\n",
    "data =  np.transpose(np.array([\n",
    "            components,\n",
    "            explain_varianze,\n",
    "            percent_explain_varianze,\n",
    "            accumulated_explain_varianze,\n",
    "        ]))\n",
    "\n",
    "# plot the table\n",
    "cell_text = []\n",
    "for row in data:\n",
    "    cell_text.append([f'{x:1.3f}' for x in row])\n",
    "\n",
    "columns = ('Componente', 'Varianza explicada', 'Porcentaje', 'Varianza Acumulada')\n",
    "rows = ['%d Componente Principal' % x for x in (1,2,3,4)]\n",
    "colors = plt.cm.BuPu(np.linspace(0, 0.5, len(rows)))\n",
    "\n",
    "the_table = plt.table(cellText=cell_text,\n",
    "                      rowLabels=rows,\n",
    "                      rowColours=colors,\n",
    "                      colLabels=columns,\n",
    "                      loc='center')\n",
    "\n",
    "ax = plt.gca()\n",
    "ax.get_xaxis().set_visible(False)\n",
    "ax.get_yaxis().set_visible(False)\n",
    "plt.box(on=None)\n",
    "the_table.scale(1, 1.5)\n",
    "\n",
    "plt.show()"
   ],
   "metadata": {
    "collapsed": false,
    "ExecuteTime": {
     "end_time": "2023-11-07T01:05:48.415307300Z",
     "start_time": "2023-11-07T01:05:48.316025400Z"
    }
   }
  },
  {
   "cell_type": "code",
   "execution_count": 11,
   "outputs": [
    {
     "ename": "ModuleNotFoundError",
     "evalue": "No module named 'sklearn'",
     "output_type": "error",
     "traceback": [
      "\u001B[1;31m---------------------------------------------------------------------------\u001B[0m",
      "\u001B[1;31mModuleNotFoundError\u001B[0m                       Traceback (most recent call last)",
      "Cell \u001B[1;32mIn[11], line 3\u001B[0m\n\u001B[0;32m      1\u001B[0m \u001B[38;5;66;03m### b\u001B[39;00m\n\u001B[1;32m----> 3\u001B[0m \u001B[38;5;28;01mfrom\u001B[39;00m \u001B[38;5;21;01msklearn\u001B[39;00m\u001B[38;5;21;01m.\u001B[39;00m\u001B[38;5;21;01mmodel_selection\u001B[39;00m \u001B[38;5;28;01mimport\u001B[39;00m train_test_split\n\u001B[0;32m      5\u001B[0m \u001B[38;5;66;03m# return the confusion matrix for the given true and predicted labels\u001B[39;00m\n\u001B[0;32m      6\u001B[0m \u001B[38;5;28;01mdef\u001B[39;00m \u001B[38;5;21mconfusion_matrix\u001B[39m(y_test, y_pred, labels):\n",
      "\u001B[1;31mModuleNotFoundError\u001B[0m: No module named 'sklearn'"
     ]
    }
   ],
   "source": [
    "### b\n",
    "\n",
    "from sklearn.model_selection import train_test_split\n",
    "\n",
    "# return the confusion matrix for the given true and predicted labels\n",
    "def confusion_matrix(y_test, y_pred, labels):\n",
    "    confusion_matrix = np.zeros((len(labels), len(labels)))\n",
    "\n",
    "    for i in range(len(y_test)):\n",
    "        confusion_matrix[int(y_test[i]) - 1, int(y_pred[i]) - 1] += 1\n",
    "\n",
    "    return confusion_matrix\n",
    "\n",
    "# return the accuracy and the confusion matrix for the given numbers of eigenvectors\n",
    "def benchmark(x, y, eigenvectors):\n",
    "\n",
    "    # make a shuffled training and test set\n",
    "    x_train, x_test, y_train, y_test = train_test_split(x, y, test_size=0.2, random_state=1)\n",
    "    \n",
    "    # create a knn model using the transformed data and the labels\n",
    "    knn = knn_model(x_train @ np.transpose(eigenvectors), y_train, neighbors=5)\n",
    "\n",
    "    # predit the result transforming the test data into the new basis and then using the knn model\n",
    "    y_pred = knn.predict(x_test @ np.transpose(eigenvectors))\n",
    "    \n",
    "    # calculate the accuracy\n",
    "    accuracy = np.sum(y_pred == y_test) / len(y_test)\n",
    "\n",
    "    # return accuracy, confusion_matrix(y_test, y_pred, np.unique(y))\n",
    "    return accuracy, confusion_matrix(y_test, y_pred, labels=np.unique(y))\n",
    "\n",
    "iter = 4\n",
    "x_labels = []\n",
    "y_lables = []\n",
    "confusion_matrixes = []\n",
    "\n",
    "# run the benchmark for the first 4 eigenvectors\n",
    "for i in range(iter):\n",
    "    accurracy, conf_matrix = benchmark(x, y, eigenvectors[np.arange(0, i + 1), :])\n",
    "    x_labels.append(f'{i + 1}')\n",
    "    y_lables.append(accurracy)\n",
    "    confusion_matrixes.append(conf_matrix)\n",
    "\n",
    "fig = plt.figure(figsize = (10, 5))\n",
    " \n",
    "# creating the bar plot\n",
    "plt.bar(x_labels, y_lables, color ='maroon', width = 0.6)\n",
    " \n",
    "plt.xlabel(\"Cantidad de componentes principales\")\n",
    "plt.ylabel(\"Exactitud\")\n",
    "plt.title(\"Exactitud por componente principal\")\n",
    "plt.show()\n"
   ],
   "metadata": {
    "collapsed": false,
    "ExecuteTime": {
     "end_time": "2023-11-07T01:05:48.506203300Z",
     "start_time": "2023-11-07T01:05:48.413306Z"
    }
   }
  },
  {
   "cell_type": "markdown",
   "source": [
    "De acuerdo a los valores encontrados en la tabla del item anterior, cual de los modelos sugiere\n",
    "utilizar para predecir el segmento al que pertenece un vino.\n",
    "\n",
    "Tener en cuenta que el comercio\n",
    "cuenta con una gran base de datos de clientes y se quiere poder hacer una recomendacion\n",
    "rapidamente.\n",
    "\n",
    "Como podemos observar en la tabla de arriba, vemos que la exactitud del modelo va mejorando a medida que usamos mas componentes principales, una vez que llegamos a 3 pareceria que el modelo llego a su punto maximo de prediccion.\n",
    "\n",
    "Con lo cual con 3 dimensiones ya nos alcanza para poder clasificar bien la data y agregar mas componentes principales haria que el programa sea mas lento y no estariamos mejorando significativamente la performance, incluso podria llegar a ser peor ya que podriamos estar haciendo lo que se conoce como 'overfitting' o modelando ruido estadistico."
   ],
   "metadata": {
    "collapsed": false
   }
  },
  {
   "cell_type": "code",
   "execution_count": null,
   "outputs": [],
   "source": [
    "### c\n",
    "\n",
    "from sklearn.metrics import ConfusionMatrixDisplay\n",
    "\n",
    "fig, axs = plt.subplots(1, iter, figsize=(20, 4))\n",
    "\n",
    "for i in range(iter):\n",
    "    subplot = ConfusionMatrixDisplay(confusion_matrixes[i])\n",
    "    subplot.plot(ax=axs[i])\n",
    "    axs[i].set_title(f\"Confusion Matrix con {i+1} PC\")\n",
    "\n",
    "plt.show()"
   ],
   "metadata": {
    "collapsed": false,
    "ExecuteTime": {
     "end_time": "2023-11-07T01:05:48.509205200Z",
     "start_time": "2023-11-07T01:05:48.507204800Z"
    }
   }
  },
  {
   "cell_type": "markdown",
   "source": [
    "¿A que conclusiones se puede llegar?\n",
    "\n",
    "Como podemos observar en las matrices de confusion de arriba, vemos que la exactitud del modelo va mejorando a medida que usamos mas componentes principales, una vez que llegamos a 3 pareceria que el modelo llego a su punto maximo de prediccion, con lo cual con 3 dimensiones ya nos alcanza para poder clasificar bien la data."
   ],
   "metadata": {
    "collapsed": false
   }
  }
 ],
 "metadata": {
  "kernelspec": {
   "display_name": "Python 3",
   "language": "python",
   "name": "python3"
  },
  "language_info": {
   "codemirror_mode": {
    "name": "ipython",
    "version": 3
   },
   "file_extension": ".py",
   "mimetype": "text/x-python",
   "name": "python",
   "nbconvert_exporter": "python",
   "pygments_lexer": "ipython3",
   "version": "3.10.12"
  }
 },
 "nbformat": 4,
 "nbformat_minor": 2
}
