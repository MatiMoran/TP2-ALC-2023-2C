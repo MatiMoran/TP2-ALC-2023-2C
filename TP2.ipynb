{
 "cells": [
  {
   "cell_type": "markdown",
   "source": [
    "# Algebra Lineal Computacional\n",
    "## TP2 2C-2023.\n",
    "\n",
    "### Matias Moran\n",
    "### Daniela Melian"
   ],
   "metadata": {
    "collapsed": false
   }
  },
  {
   "cell_type": "code",
   "execution_count": 70,
   "outputs": [],
   "source": [
    "# import libraries\n",
    "import numpy as np\n",
    "import matplotlib.pyplot as plt"
   ],
   "metadata": {
    "collapsed": false,
    "ExecuteTime": {
     "end_time": "2023-11-11T01:06:17.931995700Z",
     "start_time": "2023-11-11T01:06:17.911974300Z"
    }
   }
  },
  {
   "cell_type": "markdown",
   "source": [
    "Ejercicio 1"
   ],
   "metadata": {
    "collapsed": false
   }
  },
  {
   "cell_type": "code",
   "execution_count": 71,
   "outputs": [],
   "source": [
    "### a\n",
    "\n",
    "# obtain the headers\n",
    "with open('wine.csv', 'r') as file:\n",
    "    headers = file.readline().split(',')\n",
    "\n",
    "# read the data from the csv file\n",
    "data = np.genfromtxt('wine.csv', delimiter=',')\n",
    "\n",
    "# drop the text headers and keep only the values\n",
    "data = data[1:]"
   ],
   "metadata": {
    "collapsed": false,
    "ExecuteTime": {
     "end_time": "2023-11-11T01:06:17.947004800Z",
     "start_time": "2023-11-11T01:06:17.913980400Z"
    }
   }
  },
  {
   "cell_type": "code",
   "execution_count": 72,
   "outputs": [],
   "source": [
    "### b\n",
    "\n",
    "# get the independant variables\n",
    "x = data[:, :-1]\n",
    "\n",
    "# get the single dependant variable\n",
    "y = data[:, -1]"
   ],
   "metadata": {
    "collapsed": false,
    "ExecuteTime": {
     "end_time": "2023-11-11T01:06:17.948004100Z",
     "start_time": "2023-11-11T01:06:17.924386200Z"
    }
   }
  },
  {
   "cell_type": "code",
   "execution_count": 73,
   "outputs": [
    {
     "name": "stdout",
     "output_type": "stream",
     "text": [
      "1.995906561123877e-17\n",
      "0.9971870549059036\n"
     ]
    },
    {
     "data": {
      "text/plain": "<Figure size 640x480 with 1 Axes>",
      "image/png": "[encoded data removed]"
     },
     "metadata": {},
     "output_type": "display_data"
    }
   ],
   "source": [
    "### c\n",
    "\n",
    "# normalize the data for each column\n",
    "for col in range(x.shape[1]):\n",
    "\n",
    "    # calculate the mean\n",
    "    column_mean = np.mean(x[:, col])\n",
    "    \n",
    "    # calculate the standard deviation\n",
    "    squared_diff = 0\n",
    "    for row in range(x.shape[0]):\n",
    "        squared_diff = squared_diff + (x[row, col] - column_mean) ** 2\n",
    "    column_std = np.sqrt(squared_diff / (x.shape[0] - 1))\n",
    "    \n",
    "    # normalize the column\n",
    "    x[:, col] = (x[:, col] - column_mean) / column_std\n",
    "\n",
    "# print the mean and std of a random column and see if it is normalized\n",
    "print(np.mean(x[:, 4]))\n",
    "print(np.std(x[:, 4]))\n",
    "plt.hist(x[:,4])\n",
    "plt.show()"
   ],
   "metadata": {
    "collapsed": false,
    "ExecuteTime": {
     "end_time": "2023-11-11T01:06:18.010535300Z",
     "start_time": "2023-11-11T01:06:17.929995Z"
    }
   }
  },
  {
   "cell_type": "markdown",
   "source": [
    "### ¿Por que es importante este paso?\n",
    "\n",
    "La estandarización de la información es un paso crucial, ya que asegura que todas las columnas estén en la misma escala. Esto resulta fundamental cuando se deben calcular distancias entre vinos, representados como puntos en el espacio. La normalización y centralización evitan que las diferencias de escala entre las diversas propiedades (columnas) afecten los cálculos. De lo contrario, podría ocurrir que una dimensión (o propiedad) influya desproporcionadamente más que otras, simplemente debido a consideraciones numéricas. En resumen, este proceso garantiza una evaluación equitativa de todas las dimensiones del conjunto de datos, siendo esencial para mantener la coherencia y precisión en el análisis. "
   ],
   "metadata": {
    "collapsed": false
   }
  },
  {
   "cell_type": "code",
   "execution_count": 74,
   "outputs": [],
   "source": [
    "### d\n",
    "\n",
    "# calculate the covariance matrix\n",
    "\n",
    "rows_qty = x.shape[0]\n",
    "col_qty = x.shape[1]\n",
    "\n",
    "cov = np.zeros(shape=(col_qty, col_qty))\n",
    "\n",
    "for i in range(col_qty):\n",
    "    for j in range(col_qty):\n",
    "        i_col_mean = np.mean(x[:, i])\n",
    "        j_col_mean = np.mean(x[:, j])\n",
    "        \n",
    "        for k in range(rows_qty):\n",
    "            cov[i, j] = cov[i, j] + (x[k, i] - i_col_mean) * (x[k, j] - j_col_mean)\n",
    "        cov[i, j] = cov[i, j] / rows_qty"
   ],
   "metadata": {
    "collapsed": false,
    "ExecuteTime": {
     "end_time": "2023-11-11T01:06:18.033376900Z",
     "start_time": "2023-11-11T01:06:18.012552500Z"
    }
   }
  },
  {
   "cell_type": "markdown",
   "source": [
    "### ¿Que representa la matriz de covarianza? ¿Que dimensiones tiene y que propiedades cumple?\n",
    "\n",
    "La matriz de covarianza nos da información fundamental sobre la relación entre dos o más variables aleatorias. Cada uno de sus elementos refleja la covarianza entre pares de variables, revelando cómo estas variables varían en conjunto.\n",
    "\n",
    "Esta matriz cuadrada, presenta dimensiones de n x n, donde n representa el número de variables aleatorias. En este caso, la matriz sería de dimensiones 13 x 13, coincidiendo con la cantidad de variables independientes.\n",
    "\n",
    "La matriz de covarianza es  siempre simétrica y  semidefinida positiva. Esta característica es importante ya que la hace semejante a una matriz diagonal donde las entrada son sus autovalores y estos son reales, lo que nos ayuda en cálculos futuros."
   ],
   "metadata": {
    "collapsed": false
   }
  },
  {
   "cell_type": "code",
   "execution_count": 75,
   "outputs": [
    {
     "name": "stdout",
     "output_type": "stream",
     "text": [
      "4.679410958520444\n",
      "[ 0.14478308 -0.24497642 -0.00175443 -0.23933016  0.14227312  0.39472171\n",
      "  0.42293098 -0.29850595  0.31346624 -0.08811943  0.29645246  0.37601293\n",
      "  0.28709445]\n"
     ]
    }
   ],
   "source": [
    "### e\n",
    "\n",
    "def get_related_eigenvalue(matrix, eigenvector):\n",
    "    \"\"\"Obtain the eigenvalue using the Rayleigh quotient.\n",
    "    :param matrix: numpy.matrix, Matrix with associated eigenvector.\n",
    "    :param eigenvector: numpy.array, eigenvector associated with the matrix.\n",
    "    :return: eigenvalue associated with the eigenvector.\"\"\"\n",
    "    transposed_eigenvector = np.transpose(eigenvector)\n",
    "    return transposed_eigenvector @ matrix @ eigenvector / (transposed_eigenvector @ eigenvector)\n",
    "\n",
    "def get_max_eigenvector_and_eigenvalue(matrix, eigenvector=None, previous_eigenvalue=None):\n",
    "    \"\"\"Recursive function that uses the power method to calculate the maximum eigenvector of a matrix.\n",
    "    :param matrix: numpy.matrix, matrix to which the maximum eigenvector will be calculated.\n",
    "    :param eigenvector: numpy.array, vector to be used to calculate.\n",
    "    :param previous_eigenvalue: float, eigenvalue associated with each eigenvector in each iteration.\n",
    "    :return (eigenvector, eigenvalue): (numpy.array, float), maximum eigenvector and its associated eigenvalue.\"\"\"\n",
    "    # start with a random vector\n",
    "    if eigenvector is None:\n",
    "        eigenvector = np.random.rand(matrix.shape[1])\n",
    "    if previous_eigenvalue is None:\n",
    "        previous_eigenvalue = 0\n",
    "\n",
    "    # apply the power method multiplying the matrix with the vector and dividing by the norm and stop when its converges\n",
    "    eigenvector = (matrix @ eigenvector) / np.linalg.norm(matrix @ eigenvector)\n",
    "    eigenvalue = get_related_eigenvalue(matrix, eigenvector)\n",
    "\n",
    "    # stop when the eigenvalue converges\n",
    "    if (eigenvalue - previous_eigenvalue) < 0.00001:\n",
    "        return eigenvector, eigenvalue\n",
    "    else:\n",
    "        return get_max_eigenvector_and_eigenvalue(matrix, eigenvector, eigenvalue)\n",
    "\n",
    "\n",
    "max_cov_eigenvector, max_cov_eigenvalue = get_max_eigenvector_and_eigenvalue(cov)\n",
    "\n",
    "# print the results\n",
    "print(max_cov_eigenvalue)\n",
    "print(max_cov_eigenvector)"
   ],
   "metadata": {
    "collapsed": false,
    "ExecuteTime": {
     "end_time": "2023-11-11T01:06:18.088504700Z",
     "start_time": "2023-11-11T01:06:18.035445200Z"
    }
   }
  },
  {
   "cell_type": "code",
   "execution_count": 76,
   "outputs": [],
   "source": [
    "### f\n",
    "\n",
    "def get_max_eigenvectors_and_eigenvalues(matrix, quantity):\n",
    "    \"\"\"\n",
    "    Function responsible for finding the eigenvectors and their associated eigenvalues from the power method.\n",
    "    :param matrix: numpy.matrix, matrix to which all eigenvectors will be calculated.\n",
    "    :param quantity: int, array rank.\n",
    "    :return: eigenvectors and eigenvalues associated to the matrix.\n",
    "    \"\"\"\n",
    "    matrix_copy = matrix.copy()\n",
    "    eigenvectors = np.zeros(shape=(quantity, matrix.shape[1]))\n",
    "    eigenvalues = np.zeros(quantity)\n",
    "\n",
    "    # get the maximum eigenvector and eigenvalue and remove it from the matrix\n",
    "    for i in range(quantity):\n",
    "        eigenvector, eigenvalue = get_max_eigenvector_and_eigenvalue(matrix_copy)\n",
    "        eigenvectors[i] = eigenvector\n",
    "        eigenvalues[i] = eigenvalue\n",
    "        matrix_copy = matrix_copy - eigenvalue * np.outer(eigenvector, eigenvector)\n",
    "\n",
    "    return eigenvectors, eigenvalues\n",
    "\n",
    "eigenvectors, eigenvalues = get_max_eigenvectors_and_eigenvalues(cov, cov.shape[0])"
   ],
   "metadata": {
    "collapsed": false,
    "ExecuteTime": {
     "end_time": "2023-11-11T01:06:18.088504700Z",
     "start_time": "2023-11-11T01:06:18.046310Z"
    }
   }
  },
  {
   "cell_type": "markdown",
   "source": [
    "### ¿Como se relaciona la cantidad de autovalores con la cantidad de propiedades de los vinos?\n",
    "### ¿Que representan cada unos de los autovectores correspondientes?\n",
    "\n",
    "La cantidad de autovalores es igual a la cantidad de propiedades, ya que la matriz de covarianza tiene dimensiones n x n, correspondientes al número de propiedades. Por ende, presenta n autovalores.\n",
    "\n",
    "Cada autovector asociado a un autovalor de la matriz de covarianza representa la dirección en el espacio n-dimensional que maximiza la varianza y, por ende, la información contenida.\n",
    "\n",
    "El autovector relacionado con el primer autovalor señala la dirección de mayor varianza. En consecuencia, el segundo autovector indica la segunda dirección con mayor varianza y es, además, ortogonal a la primera.\n",
    "\n",
    "Análogamente, el tercer autovector señala la tercera dirección con mayor varianza y es ortogonal a los dos anteriores, y así sucesivamente. Este patrón se mantiene para cada autovalor, lo que proporciona una representación estructurada de las direcciones principales de variabilidad en el conjunto de datos."
   ],
   "metadata": {
    "collapsed": false
   }
  },
  {
   "cell_type": "code",
   "execution_count": 77,
   "outputs": [
    {
     "name": "stdout",
     "output_type": "stream",
     "text": [
      "correct value is: 1.0    prediction is: 1.0\n",
      "correct value is: 1.0    prediction is: 1.0\n",
      "correct value is: 1.0    prediction is: 1.0\n",
      "correct value is: 1.0    prediction is: 1.0\n",
      "correct value is: 1.0    prediction is: 1.0\n",
      "correct value is: 1.0    prediction is: 1.0\n",
      "correct value is: 2.0    prediction is: 2.0\n",
      "correct value is: 2.0    prediction is: 2.0\n",
      "correct value is: 2.0    prediction is: 2.0\n",
      "correct value is: 2.0    prediction is: 2.0\n",
      "correct value is: 2.0    prediction is: 2.0\n",
      "correct value is: 2.0    prediction is: 2.0\n",
      "correct value is: 2.0    prediction is: 2.0\n",
      "correct value is: 3.0    prediction is: 3.0\n",
      "correct value is: 3.0    prediction is: 3.0\n",
      "correct value is: 3.0    prediction is: 3.0\n",
      "correct value is: 3.0    prediction is: 3.0\n",
      "correct value is: 3.0    prediction is: 3.0\n",
      "Accuracy: 100.0%\n"
     ]
    }
   ],
   "source": [
    "### g\n",
    "\n",
    "\n",
    "class knn_model:\n",
    "    \"\"\"KNN model for predicting the result label.\"\"\"\n",
    "    def __init__(self, x, y, neighbors):\n",
    "        self.x = x\n",
    "        self.y = y\n",
    "        self.neighbors = neighbors\n",
    "\n",
    "    def predict(self, input):\n",
    "        distances = np.zeros(len(self.x))\n",
    "        results = np.zeros(len(input))\n",
    "\n",
    "        # calculate the distance between the input and the known data points and return the label of the nearest point\n",
    "        for i in range(len(input)):\n",
    "            for j in range(len(self.x)):\n",
    "                distances[j] = np.linalg.norm(input[i] - self.x[j])\n",
    "            \n",
    "            # get the indexes of most similar points and the most frequent label of them\n",
    "            min_distance_indexes = np.argsort(distances)[:self.neighbors]\n",
    "            min_distance_values = self.y[min_distance_indexes]\n",
    "            values, counts = np.unique(min_distance_values, return_counts=True)\n",
    "            ind = np.argmax(counts)\n",
    "            results[i] = values[ind]\n",
    "        \n",
    "        return results\n",
    "\n",
    "def predict_data(x, y, input, eigenvectors):\n",
    "    \"\"\"Predict the result label of the input array containing the samples attributes and needs the eigenvectors of the covariance matrix.\"\"\"\n",
    "\n",
    "    # transform the data into the new basis using the eigenvectors\n",
    "    transformed_x = x @ np.transpose(eigenvectors)\n",
    "    \n",
    "    # create a knn model using the transformed data and the labels\n",
    "    model = knn_model(transformed_x, y, neighbors=5)\n",
    "\n",
    "    # predit the result transforming the input data into the new basis and then using the knn model\n",
    "    return model.predict(input @ np.transpose(eigenvectors))\n",
    "\n",
    "# take random samples for testing the model\n",
    "test = x[::10]\n",
    "correct_labels = y[::10]\n",
    "predicted_data = predict_data(x, y, test, eigenvectors)\n",
    "\n",
    "for i in range(len(predicted_data)):\n",
    "    print(\"correct value is: \" + str(correct_labels[i]) + \"    prediction is: \" + str(predicted_data[i]))\n",
    "\n",
    "print(\"Accuracy: \" + str(100 * np.sum(predicted_data == correct_labels) / len(correct_labels)) + \"%\")"
   ],
   "metadata": {
    "collapsed": false,
    "ExecuteTime": {
     "end_time": "2023-11-11T01:06:18.089506100Z",
     "start_time": "2023-11-11T01:06:18.054595900Z"
    }
   }
  },
  {
   "cell_type": "markdown",
   "source": [
    "Ejercicio 2"
   ],
   "metadata": {
    "collapsed": false
   }
  },
  {
   "cell_type": "code",
   "execution_count": 78,
   "outputs": [
    {
     "data": {
      "text/plain": "<Figure size 640x480 with 1 Axes>",
      "image/png": "[encoded data removed]"
     },
     "metadata": {},
     "output_type": "display_data"
    }
   ],
   "source": [
    "### a\n",
    "\n",
    "iter = 4\n",
    "components = []\n",
    "explain_varianze = []\n",
    "percent_explain_varianze = []\n",
    "accumulated_explain_varianze = []\n",
    "\n",
    "# obtain the data for the table\n",
    "for i in range(iter):\n",
    "    components.append(i + 1)\n",
    "    explain_varianze.append(eigenvalues[i] / np.sum(eigenvalues))\n",
    "    percent_explain_varianze.append(100 * explain_varianze[i])\n",
    "    accumulated_explain_varianze.append(np.sum(eigenvalues[0:i + 1]) / np.sum(eigenvalues))\n",
    "\n",
    "data =  np.transpose(np.array([\n",
    "            components,\n",
    "            explain_varianze,\n",
    "            percent_explain_varianze,\n",
    "            accumulated_explain_varianze,\n",
    "        ]))\n",
    "\n",
    "# plot the table\n",
    "cell_text = []\n",
    "for row in data:\n",
    "    cell_text.append([f'{x:1.3f}' for x in row])\n",
    "\n",
    "columns = ('Componente', 'Varianza explicada', 'Porcentaje', 'Varianza Acumulada')\n",
    "rows = ['%d Componente Principal' % x for x in (1,2,3,4)]\n",
    "colors = plt.cm.BuPu(np.linspace(0, 0.5, len(rows)))\n",
    "\n",
    "the_table = plt.table(cellText=cell_text,\n",
    "                      rowLabels=rows,\n",
    "                      rowColours=colors,\n",
    "                      colLabels=columns,\n",
    "                      loc='center')\n",
    "\n",
    "ax = plt.gca()\n",
    "ax.get_xaxis().set_visible(False)\n",
    "ax.get_yaxis().set_visible(False)\n",
    "plt.box(on=None)\n",
    "the_table.scale(1, 1.5)\n",
    "\n",
    "plt.show()"
   ],
   "metadata": {
    "collapsed": false,
    "ExecuteTime": {
     "end_time": "2023-11-11T01:06:18.169261900Z",
     "start_time": "2023-11-11T01:06:18.071727Z"
    }
   }
  },
  {
   "cell_type": "code",
   "execution_count": 79,
   "outputs": [
    {
     "data": {
      "text/plain": "<Figure size 1000x500 with 1 Axes>",
      "image/png": "[encoded data removed]"
     },
     "metadata": {},
     "output_type": "display_data"
    }
   ],
   "source": [
    "### b\n",
    "\n",
    "from sklearn.model_selection import train_test_split\n",
    "\n",
    "def confusion_matrix(y_test, y_pred, labels):\n",
    "    \"\"\"Creates the confusion matrix for the given true and predicted labels.\"\"\"\n",
    "    confusion_matrix = np.zeros((len(labels), len(labels)))\n",
    "\n",
    "    for i in range(len(y_test)):\n",
    "        confusion_matrix[int(y_test[i]) - 1, int(y_pred[i]) - 1] += 1\n",
    "\n",
    "    return confusion_matrix\n",
    "\n",
    "def benchmark(x, y, eigenvectors):\n",
    "    \"\"\"Return the accuracy and the confusion matrix for the given numbers of eigenvectors.\"\"\"\n",
    "    # make a shuffled training and test set\n",
    "    x_train, x_test, y_train, y_test = train_test_split(x, y, test_size=0.2, random_state=1)\n",
    "    \n",
    "    # create a knn model using the transformed data and the labels\n",
    "    knn = knn_model(x_train @ np.transpose(eigenvectors), y_train, neighbors=5)\n",
    "\n",
    "    # predit the result transforming the test data into the new basis and then using the knn model\n",
    "    y_pred = knn.predict(x_test @ np.transpose(eigenvectors))\n",
    "    \n",
    "    # calculate the accuracy\n",
    "    accuracy = np.sum(y_pred == y_test) / len(y_test)\n",
    "\n",
    "    # return accuracy, confusion_matrix(y_test, y_pred, np.unique(y))\n",
    "    return accuracy, confusion_matrix(y_test, y_pred, labels=np.unique(y))\n",
    "\n",
    "iter = 4\n",
    "x_labels = []\n",
    "y_lables = []\n",
    "confusion_matrixes = []\n",
    "\n",
    "# run the benchmark for the first 4 eigenvectors\n",
    "for i in range(iter):\n",
    "    accurracy, conf_matrix = benchmark(x, y, eigenvectors[np.arange(0, i + 1), :])\n",
    "    x_labels.append(f'{i + 1}')\n",
    "    y_lables.append(accurracy)\n",
    "    confusion_matrixes.append(conf_matrix)\n",
    "\n",
    "fig = plt.figure(figsize = (10, 5))\n",
    " \n",
    "# creating the bar plot\n",
    "plt.bar(x_labels, y_lables, color ='maroon', width = 0.6)\n",
    " \n",
    "plt.xlabel(\"Cantidad de componentes principales\")\n",
    "plt.ylabel(\"Exactitud\")\n",
    "plt.title(\"Exactitud por componente principal\")\n",
    "plt.show()\n"
   ],
   "metadata": {
    "collapsed": false,
    "ExecuteTime": {
     "end_time": "2023-11-11T01:06:18.301795700Z",
     "start_time": "2023-11-11T01:06:18.169261900Z"
    }
   }
  },
  {
   "cell_type": "markdown",
   "source": [
    "### De acuerdo a los valores encontrados en la tabla del item anterior, cual de los modelos sugiere utilizar para predecir el segmento al que pertenece un vino. Tener en cuenta que el comercio cuenta con una gran base de datos de clientes y se quiere poder hacer una recomendacion rapidamente.\n",
    "\n",
    "Como podemos observar en la tabla de arriba, vemos que la exactitud del modelo va mejorando a medida que usamos mas componentes principales, una vez que llegamos a 3 pareceria que el modelo llego a su punto maximo de prediccion.\n",
    "\n",
    "Con lo cual con 3 dimensiones ya nos alcanza para poder clasificar bien la informacion y agregar mas componentes principales haria que el programa sea mas lento y no estariamos mejorando significativamente la performance, incluso podria llegar a ser peor ya que podriamos estar haciendo lo que se conoce como 'overfitting' o modelando ruido estadistico."
   ],
   "metadata": {
    "collapsed": false
   }
  },
  {
   "cell_type": "code",
   "execution_count": 80,
   "outputs": [
    {
     "data": {
      "text/plain": "<Figure size 2000x400 with 8 Axes>",
      "image/png": "[encoded data removed]"
     },
     "metadata": {},
     "output_type": "display_data"
    }
   ],
   "source": [
    "### c\n",
    "\n",
    "from sklearn.metrics import ConfusionMatrixDisplay\n",
    "\n",
    "fig, axs = plt.subplots(1, iter, figsize=(20, 4))\n",
    "\n",
    "for i in range(iter):\n",
    "    subplot = ConfusionMatrixDisplay(confusion_matrixes[i])\n",
    "    subplot.plot(ax=axs[i])\n",
    "    axs[i].set_title(f\"Confusion Matrix con {i+1} PC\")\n",
    "\n",
    "plt.show()"
   ],
   "metadata": {
    "collapsed": false,
    "ExecuteTime": {
     "end_time": "2023-11-11T01:06:18.644815800Z",
     "start_time": "2023-11-11T01:06:18.303792Z"
    }
   }
  },
  {
   "cell_type": "markdown",
   "source": [
    "### ¿A que conclusiones se puede llegar?\n",
    "\n",
    "Como podemos observar en las matrices de confusion de arriba, que resumen todos los calculos hechos a lo largo del trabajo practico, vemos que la exactitud del modelo va mejorando a medida que usamos mas componentes principales en nuestro modelo, luego una vez que llegamos a 3 componentes principales podemos concluir que el modelo llego a su punto maximo de prediccion, con lo cual con 3 dimensiones ya nos alcanza para poder clasificar bien la informacion y obtener una buena prediccion para poder recomendar a cada cliente el vino adecuado. Esto destaca la importancia de encontrar un equilibrio entre la complejidad del modelo y su capacidad predictiva. En este caso, la elección de tres dimensiones como base para el modelo parece ser una estrategia eficiente y equilibrada, proporcionando un rendimiento sólido sin caer en la redundancia computacional asociada con dimensiones adicionales."
   ],
   "metadata": {
    "collapsed": false
   }
  }
 ],
 "metadata": {
  "kernelspec": {
   "display_name": "Python 3",
   "language": "python",
   "name": "python3"
  },
  "language_info": {
   "codemirror_mode": {
    "name": "ipython",
    "version": 3
   },
   "file_extension": ".py",
   "mimetype": "text/x-python",
   "name": "python",
   "nbconvert_exporter": "python",
   "pygments_lexer": "ipython3",
   "version": "3.10.12"
  }
 },
 "nbformat": 4,
 "nbformat_minor": 2
}
