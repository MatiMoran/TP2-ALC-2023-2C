{
 "cells": [
  {
   "cell_type": "code",
   "execution_count": 146,
   "metadata": {},
   "outputs": [],
   "source": [
    "# import libraries\n",
    "import numpy as np\n",
    "import math\n"
   ]
  },
  {
   "cell_type": "markdown",
   "metadata": {},
   "source": [
    "##Ejercicio 1"
   ]
  },
  {
   "cell_type": "code",
   "execution_count": 147,
   "metadata": {},
   "outputs": [],
   "source": [
    "### a\n",
    "\n",
    "# obtain the headers\n",
    "with open('wine.csv', 'r') as file:\n",
    "    headers = file.readline().split(',')\n",
    "\n",
    "# read the data from the csv file\n",
    "data = np.genfromtxt('wine.csv', delimiter=',')\n",
    "\n",
    "# drop the text headers and keep only the values\n",
    "data = data[1:]"
   ]
  },
  {
   "cell_type": "code",
   "execution_count": 148,
   "metadata": {},
   "outputs": [],
   "source": [
    "### b\n",
    "\n",
    "# get the independant variables\n",
    "x = data[:, :-1]\n",
    "\n",
    "# get the single dependant variable\n",
    "y = data[:, -1]"
   ]
  },
  {
   "cell_type": "code",
   "execution_count": 149,
   "metadata": {},
   "outputs": [],
   "source": [
    "### c\n",
    "\n",
    "# obtain the mean vector of data\n",
    "def get_mean_vector(x):\n",
    "    return np.mean(x, axis=0)\n",
    "\n",
    "# obtain the standard deviation vector of data\n",
    "def get_std_vector(x):\n",
    "    rows_qty = x.shape[0]\n",
    "    col_qty = x.shape[1]\n",
    "    ret = np.zeros(col_qty)\n",
    "\n",
    "    mean = get_mean_vector(x)\n",
    "\n",
    "    for i in range(rows_qty):\n",
    "        ret = ret + (x[i] - mean) ** 2\n",
    "\n",
    "    return ret / (rows_qty - 1)\n",
    "\n",
    "# obtain the normalized vector of data\n",
    "def get_normailized(x):\n",
    "    return (x - get_mean_vector(x)) / get_std_vector(x)\n",
    "\n",
    "x = get_normailized(x)"
   ]
  },
  {
   "cell_type": "code",
   "execution_count": 150,
   "metadata": {},
   "outputs": [],
   "source": [
    "### d\n",
    "\n",
    "cov = np.cov(x, rowvar=False)"
   ]
  },
  {
   "cell_type": "code",
   "execution_count": 151,
   "metadata": {},
   "outputs": [],
   "source": [
    "### e\n",
    "\n",
    "def get_max_eigenvector(matrix, iter = 20):\n",
    "    # start with a random vector\n",
    "    ret = np.random.rand(matrix.shape[1])\n",
    "\n",
    "    # apply the power method, simply multiplying the matrix with the vector and dividing by the norm\n",
    "    for _ in range(iter):\n",
    "        next = np.dot(matrix, ret)\n",
    "        ret = next / np.linalg.norm(next)\n",
    "    return ret\n",
    "\n",
    "# obtain the eigenvalue simply by calculating using the formula see in class\n",
    "def get_related_eigenvalue(matrix, max_eigenvector):\n",
    "    t_max_eigenvector = np.transpose(max_eigenvector)\n",
    "    return np.dot(t_max_eigenvector, np.dot(matrix, max_eigenvector)) / (np.dot(t_max_eigenvector, max_eigenvector))\n",
    "\n",
    "max_cov_eigenvector = get_max_eigenvector(cov)\n",
    "max_cov_eigenvalue = get_related_eigenvalue(cov, max_cov_eigenvector)\n"
   ]
  },
  {
   "cell_type": "code",
   "execution_count": 154,
   "metadata": {},
   "outputs": [],
   "source": [
    "### f\n",
    "\n",
    "def get_max_eigenvectors(matrix, qty = 1, iter = 200):\n",
    "    \n",
    "    eigenvectors = np.zeros(shape=(qty, matrix.shape[1]))\n",
    "\n",
    "    for i in range(qty):\n",
    "        aux = np.random.rand(matrix.shape[1])\n",
    "\n",
    "        # for the next iteration start with a random vector and remove the components of already calculed eigenvectors\n",
    "        for _ in range(iter):\n",
    "            for eigenvector in eigenvectors:\n",
    "                aux = aux - np.dot(eigenvector, aux) * eigenvector\n",
    "            next_aux = np.dot(matrix, aux)\n",
    "            aux = next_aux / np.linalg.norm(next_aux)\n",
    "\n",
    "        eigenvectors[i] = aux\n",
    "\n",
    "    return eigenvectors\n",
    "\n",
    "def get_max_eigenvalues(matrix, eigenvectors):\n",
    "    eigenvalues = np.zeros(eigenvectors.shape[0])\n",
    "\n",
    "    i = 0\n",
    "    for eigenvector in eigenvectors:\n",
    "        eigenvalues[i] = get_related_eigenvalue(matrix, eigenvector)\n",
    "        i = i + 1\n",
    "        \n",
    "    return eigenvalues\n",
    "\n",
    "eigenvectors = get_max_eigenvectors(cov, cov.shape[0])\n",
    "eigenvalues = np.array(get_max_eigenvalues(cov, eigenvectors))\n",
    "\n",
    "# print(np.allclose(np.linalg.eig(cov).eigenvalues, eigenvalues, rtol=1e-03))\n",
    "# print(np.allclose(np.transpose(np.linalg.eig(cov).eigenvectors  ** 2), eigenvectors  ** 2, rtol=1e-03))"
   ]
  }
 ],
 "metadata": {
  "kernelspec": {
   "display_name": "Python 3",
   "language": "python",
   "name": "python3"
  },
  "language_info": {
   "codemirror_mode": {
    "name": "ipython",
    "version": 3
   },
   "file_extension": ".py",
   "mimetype": "text/x-python",
   "name": "python",
   "nbconvert_exporter": "python",
   "pygments_lexer": "ipython3",
   "version": "3.10.12"
  }
 },
 "nbformat": 4,
 "nbformat_minor": 2
}
